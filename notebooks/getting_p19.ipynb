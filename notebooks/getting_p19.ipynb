{
 "cells": [
  {
   "cell_type": "code",
   "execution_count": null,
   "id": "8d263cf0",
   "metadata": {},
   "outputs": [],
   "source": [
    "from tqdm import tqdm\n",
    "import numpy as np\n",
    "import pickle"
   ]
  },
  {
   "cell_type": "code",
   "execution_count": null,
   "id": "636b4ff7",
   "metadata": {},
   "outputs": [],
   "source": [
    "# Follow instruction SEFT repository to get access to P19 data\n",
    "# https://github.com/BorgwardtLab/Set_Functions_for_Time_Series/tree/master#available-datasets"
   ]
  },
  {
   "cell_type": "code",
   "execution_count": null,
   "id": "a0a01db3",
   "metadata": {},
   "outputs": [],
   "source": [
    "import tensorflow_datasets as tfds\n",
    "import medical_ts_datasets\n",
    "\n",
    "splitname = 'train' # train dev test\n",
    "p19, p19_info = tfds.load(name='physionet2019', split=splitname, as_supervised=True, with_info=True)"
   ]
  },
  {
   "cell_type": "code",
   "execution_count": null,
   "id": "fbbd474b",
   "metadata": {},
   "outputs": [],
   "source": [
    "# run it each time separately\n",
    "\n",
    "data = []\n",
    "diag_times = []\n",
    "for i,d in tqdm(enumerate(p19)):\n",
    "    x,y=d\n",
    "    static, timestamps,diagnosis,mask, l = x\n",
    "    data_dict ={}\n",
    "    data_dict['static'] = static.numpy()\n",
    "    data_dict['timestamps'] = timestamps.numpy()\n",
    "    data_dict['diagnosis'] = diagnosis.numpy()\n",
    "    data_dict['masks'] = mask.numpy()\n",
    "    data_dict['length'] = l.numpy()\n",
    "    \n",
    "    data_dict['target'] = y.numpy().reshape(-1)\n",
    "    data.append(data_dict)"
   ]
  },
  {
   "cell_type": "code",
   "execution_count": null,
   "id": "2ea8d4fa",
   "metadata": {},
   "outputs": [],
   "source": [
    "filename = f'p19_{splitname}.pickle'\n",
    "\n",
    "with open(filename, 'wb') as fp:\n",
    "    pickle.dump(data, fp)"
   ]
  },
  {
   "cell_type": "code",
   "execution_count": null,
   "id": "f5e64a5d",
   "metadata": {},
   "outputs": [],
   "source": [
    "with open(filename, 'rb') as fp:\n",
    "    data_p19 = pickle.load(fp)\n",
    "    \n",
    "len(data_p19)"
   ]
  },
  {
   "cell_type": "code",
   "execution_count": null,
   "id": "cc99a6eb",
   "metadata": {},
   "outputs": [],
   "source": [
    "25813 + 6454 + 8066"
   ]
  },
  {
   "cell_type": "code",
   "execution_count": null,
   "id": "6d2e97ad",
   "metadata": {},
   "outputs": [],
   "source": [
    "# p19 3 instances were removed by SeFT \n",
    "# time series variable = 34, static = 4\n",
    "#         train - dev  - test \n",
    "# nsample 25813 - 6454 - 8066\n",
    "# avgobs 38.458 - 38.314 - 38.690\n",
    "nobs = []\n",
    "for p in tqdm(p19):\n",
    "    x = p[0]\n",
    "    y = p[1]\n",
    "    #print(len(x), len(y))\n",
    "    nobs.append(len(y))\n",
    "    print(x,y)\n",
    "    #break\n",
    "print(np.mean(nobs))"
   ]
  },
  {
   "cell_type": "markdown",
   "id": "bf3c2367",
   "metadata": {},
   "source": [
    "# Preparing stat files"
   ]
  },
  {
   "cell_type": "code",
   "execution_count": null,
   "id": "056d84a2",
   "metadata": {
    "scrolled": true
   },
   "outputs": [],
   "source": [
    "nvar = 34\n",
    "diag_total = np.zeros(nvar)\n",
    "count_total = np.zeros(nvar)\n",
    "count_total_p = np.zeros(nvar)\n",
    "patient_avg_ = np.zeros(nvar)\n",
    "min_total = np.array([np.inf]*nvar)\n",
    "max_total = np.array([-np.inf]*nvar)\n",
    "val_dict = {f'idx{i}': [] for i in range(nvar)}\n",
    "\n",
    "for d in tqdm(data_p19):\n",
    "    diag = d['diagnosis']\n",
    "    mask = d['masks']\n",
    "    timestamp = d['timestamps']\n",
    "    #print(timestamp)\n",
    "    total_hr = timestamp[-1] - timestamp[0]\n",
    "    #print(diag.shape)#, diag)#, np.nansum(diag, axis=0))\n",
    "    diag_total += np.nansum(diag, axis=0)\n",
    "    count_total += np.sum(mask, axis=0)\n",
    "    for i,(v,m) in enumerate(zip(diag.T, mask.T)):\n",
    "        val_dict[f'idx{i}']+=list(v[m])\n",
    "        #print(i,'?',v[m])\n",
    "        if len(v[m]) >0:\n",
    "            maxof = max(max_total[i],max(v[m]))\n",
    "            minof = min(min_total[i],min(v[m]))\n",
    "            max_total[i] = maxof\n",
    "            min_total[i] = minof\n",
    "            #print(i, \"==>\", maxof,minof)\n",
    "    \n",
    "    #print(np.sum(mask, axis=0)/total_hr)\n",
    "    patient_avg_ += (np.sum(mask, axis=0)/total_hr)\n",
    "    #break"
   ]
  },
  {
   "cell_type": "code",
   "execution_count": null,
   "id": "8a3ca1e5",
   "metadata": {},
   "outputs": [],
   "source": [
    "patient_avg_/25813 # avg of (avg of diagnosis per variable) per patient"
   ]
  },
  {
   "cell_type": "code",
   "execution_count": null,
   "id": "81cb8c79",
   "metadata": {},
   "outputs": [],
   "source": [
    "with open('sampling_rate_p19.npy', 'wb') as fp:\n",
    "    np.save(fp, patient_avg_/25813)\n",
    "    \n",
    "    \n",
    "with open('sampling_rate_p19.npy', 'rb') as fp:\n",
    "    sr_p19 = np.load(fp)\n",
    "# https://numpy.org/doc/stable/reference/generated/numpy.save.html"
   ]
  },
  {
   "cell_type": "code",
   "execution_count": null,
   "id": "c627d67c",
   "metadata": {},
   "outputs": [],
   "source": [
    "final_stat = {}\n",
    "for k in val_dict:\n",
    "    print(k, min(val_dict[k]), max(val_dict[k]), np.mean(val_dict[k]), np.std(val_dict[k]))\n",
    "    final_stat[k] = {\"min\":min(val_dict[k]),\n",
    "                    \"max\": max(val_dict[k]),\n",
    "                    \"mean\":np.mean(val_dict[k]),\n",
    "                    \"std\": np.std(val_dict[k])}"
   ]
  },
  {
   "cell_type": "code",
   "execution_count": null,
   "id": "69cc3e7e",
   "metadata": {},
   "outputs": [],
   "source": [
    "filename = 'p19_stat.pickle'\n",
    "with open(filename, 'wb') as fp:\n",
    "    pickle.dump(final_stat, fp)"
   ]
  },
  {
   "cell_type": "code",
   "execution_count": null,
   "id": "372bbc73",
   "metadata": {},
   "outputs": [],
   "source": [
    "with open(filename, 'rb') as fp:\n",
    "    stat_p19 = pickle.load(fp)\n",
    "    \n",
    "len(stat_p19)"
   ]
  }
 ],
 "metadata": {
  "kernelspec": {
   "display_name": "Python 3 (ipykernel)",
   "language": "python",
   "name": "python3"
  },
  "language_info": {
   "codemirror_mode": {
    "name": "ipython",
    "version": 3
   },
   "file_extension": ".py",
   "mimetype": "text/x-python",
   "name": "python",
   "nbconvert_exporter": "python",
   "pygments_lexer": "ipython3",
   "version": "3.10.12"
  }
 },
 "nbformat": 4,
 "nbformat_minor": 5
}
