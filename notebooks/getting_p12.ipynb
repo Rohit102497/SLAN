{
 "cells": [
  {
   "cell_type": "code",
   "execution_count": null,
   "id": "6e46f76c",
   "metadata": {},
   "outputs": [],
   "source": [
    "import numpy as np\n",
    "from tqdm import tqdm\n",
    "import pickle\n"
   ]
  },
  {
   "cell_type": "code",
   "execution_count": null,
   "id": "968034a2",
   "metadata": {},
   "outputs": [],
   "source": [
    "# Follow instruction SEFT repository to get access to P12 data\n",
    "# https://github.com/BorgwardtLab/Set_Functions_for_Time_Series/tree/master#available-datasets"
   ]
  },
  {
   "cell_type": "code",
   "execution_count": null,
   "id": "126b9a81",
   "metadata": {},
   "outputs": [],
   "source": [
    "import tensorflow_datasets as tfds\n",
    "import medical_ts_datasets"
   ]
  },
  {
   "cell_type": "code",
   "execution_count": null,
   "id": "bfaf053c",
   "metadata": {},
   "outputs": [],
   "source": [
    "import tensorflow as tf"
   ]
  },
  {
   "cell_type": "code",
   "execution_count": null,
   "id": "a0a01db3",
   "metadata": {},
   "outputs": [],
   "source": [
    "# load it one time for : train dev test\n",
    "\n",
    "splitname = 'train' # train, dev ,test\n",
    "p12, p12_info = tfds.load(name='physionet2012', split='train', as_supervised=True, with_info=True)"
   ]
  },
  {
   "cell_type": "code",
   "execution_count": null,
   "id": "fbbd474b",
   "metadata": {},
   "outputs": [],
   "source": [
    "\n",
    "\n",
    "data = []\n",
    "diag_times = []\n",
    "for i,d in tqdm(enumerate(p12)):\n",
    "    x,y=d\n",
    "    static, timestamps,diagnosis,mask, l = x\n",
    "    data_dict ={}\n",
    "    data_dict['static'] = static.numpy()\n",
    "    data_dict['timestamps'] = timestamps.numpy()\n",
    "    data_dict['diagnosis'] = diagnosis.numpy()\n",
    "    data_dict['masks'] = mask.numpy()\n",
    "    data_dict['target'] = y.numpy()\n",
    "    data_dict['length'] = l.numpy()\n",
    "    data.append(data_dict)\n",
    "    #print(diagnosis.numpy().shape)\n",
    "    \n",
    "filename = f'p12_{splitname}.pickle'\n",
    "\n",
    "with open(filename, 'wb') as fp:\n",
    "    pickle.dump(data, fp)\n",
    "\n",
    "\n",
    "with open(filename, 'rb') as fp:\n",
    "    data_p12 = pickle.load(fp)\n",
    "    \n",
    "len(data_p12)"
   ]
  },
  {
   "cell_type": "code",
   "execution_count": null,
   "id": "81f65a8e",
   "metadata": {},
   "outputs": [],
   "source": [
    "7671+1917+2400+12"
   ]
  },
  {
   "cell_type": "markdown",
   "id": "1ad18253",
   "metadata": {},
   "source": [
    "# Preparing stat files"
   ]
  },
  {
   "cell_type": "code",
   "execution_count": null,
   "id": "056d84a2",
   "metadata": {},
   "outputs": [],
   "source": [
    "diag_total = np.zeros(37)\n",
    "count_total = np.zeros(37)\n",
    "count_total_p = np.zeros(37)\n",
    "patient_avg_ = np.zeros(37)\n",
    "min_total = np.array([np.inf]*37)\n",
    "max_total = np.array([-np.inf]*37)\n",
    "val_dict = {f'idx{i}': [] for i in range(37)}\n",
    "\n",
    "for d in tqdm(data):\n",
    "    diag = d['diagnosis']\n",
    "    mask = d['masks']\n",
    "    timestamp = d['timestamps']\n",
    "    #print(timestamp)\n",
    "    total_hr = timestamp[-1] - timestamp[0]\n",
    "    #print(diag.shape)#, diag)#, np.nansum(diag, axis=0))\n",
    "    diag_total += np.nansum(diag, axis=0)\n",
    "    count_total += np.sum(mask, axis=0)\n",
    "    for i,(v,m) in enumerate(zip(diag.T, mask.T)):\n",
    "        val_dict[f'idx{i}']+=list(v[m])\n",
    "        #print(i,'?',v[m])\n",
    "        if len(v[m]) >0:\n",
    "            maxof = max(max_total[i],max(v[m]))\n",
    "            minof = min(min_total[i],min(v[m]))\n",
    "            max_total[i] = maxof\n",
    "            min_total[i] = minof\n",
    "            #print(i, \"==>\", maxof,minof)\n",
    "    \n",
    "    print(np.sum(mask, axis=0)/total_hr)\n",
    "    patient_avg_ += (np.sum(mask, axis=0)/total_hr)\n",
    "    #break\n",
    "    "
   ]
  },
  {
   "cell_type": "code",
   "execution_count": null,
   "id": "8a3ca1e5",
   "metadata": {},
   "outputs": [],
   "source": [
    "patient_avg_/7671 # avg of (avg of diagnosis per variable) per patient"
   ]
  },
  {
   "cell_type": "code",
   "execution_count": null,
   "id": "81cb8c79",
   "metadata": {},
   "outputs": [],
   "source": [
    "# sampling rate file\n",
    "\n",
    "with open('sampling_rate_p12.npy', 'wb') as fp:\n",
    "    np.save(fp, patient_avg_/7671)\n",
    "    \n",
    "with open('sampling_rate_p12.npy', 'rb') as fp:\n",
    "    sr_p12 = np.load(fp)\n",
    "    \n",
    "# https://numpy.org/doc/stable/reference/generated/numpy.save.html"
   ]
  },
  {
   "cell_type": "code",
   "execution_count": null,
   "id": "c627d67c",
   "metadata": {},
   "outputs": [],
   "source": [
    "final_stat = {}\n",
    "for k in val_dict:\n",
    "    print(k, min(val_dict[k]), max(val_dict[k]), np.mean(val_dict[k]), np.std(val_dict[k]), np.var(val_dict[k]), len(val_dict[k]))\n",
    "    final_stat[k] = {\"min\":min(val_dict[k]),\n",
    "                    \"max\": max(val_dict[k]),\n",
    "                    \"mean\":np.mean(val_dict[k]),\n",
    "                    \"std\": np.std(val_dict[k]),\n",
    "                    \"count\": len(val_dict[k]),\n",
    "                    \"var\":np.var(val_dict[k]),\n",
    "                    \"median\": np.median(val_dict[k], axis=0)}"
   ]
  },
  {
   "cell_type": "code",
   "execution_count": null,
   "id": "69cc3e7e",
   "metadata": {},
   "outputs": [],
   "source": [
    "filename = 'p12_stat.pickle'\n",
    "with open(filename, 'wb') as fp:\n",
    "    pickle.dump(final_stat, fp)\n",
    "    \n",
    "with open(filename, 'rb') as fp:\n",
    "    stat_p12 = pickle.load(fp)\n",
    "    \n",
    "len(stat_p12)"
   ]
  }
 ],
 "metadata": {
  "kernelspec": {
   "display_name": "Python 3 (ipykernel)",
   "language": "python",
   "name": "python3"
  },
  "language_info": {
   "codemirror_mode": {
    "name": "ipython",
    "version": 3
   },
   "file_extension": ".py",
   "mimetype": "text/x-python",
   "name": "python",
   "nbconvert_exporter": "python",
   "pygments_lexer": "ipython3",
   "version": "3.10.12"
  }
 },
 "nbformat": 4,
 "nbformat_minor": 5
}
